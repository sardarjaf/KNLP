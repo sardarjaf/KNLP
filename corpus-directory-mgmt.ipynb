{
 "cells": [
  {
   "cell_type": "code",
   "execution_count": null,
   "metadata": {},
   "outputs": [],
   "source": [
    "# author: Sardar Jaf\n",
    "#\n",
    "# reorganise a corpus from directory structure such as:\n",
    "# root\n",
    "#  news\n",
    "#     123.txt\n",
    "#     ...\n",
    "#  economic\n",
    "#      123.txt\n",
    "#      ...\n",
    "#  other directories\n",
    "# to a file structure such as:\n",
    "# root\n",
    "#    news.123.txt\n",
    "#    ...\n",
    "#    economics.456.txt\n",
    "#    ...."
   ]
  },
  {
   "cell_type": "code",
   "execution_count": null,
   "metadata": {},
   "outputs": [],
   "source": [
    "import os\n",
    "import codecs\n",
    "\n",
    "PATH = os.getcwd()\n",
    "input_dir = PATH + \"/plain_text_corpus\" # root dirctory\n",
    "input_dir_list = os.listdir(input_dir)\n",
    "\n",
    "output_dir = PATH + \"/data\" # the output directory"
   ]
  },
  {
   "cell_type": "code",
   "execution_count": null,
   "metadata": {
    "scrolled": true
   },
   "outputs": [],
   "source": [
    "def read_directories(dir_list, dir_name):\n",
    "    for dirs in dir_list:\n",
    "        if os.path.isdir(input_dir + '/' + dirs):\n",
    "            read_directories(os.listdir(input_dir + '/' + dirs), dirs)\n",
    "        else:            \n",
    "            file_name = dir_name+'.'+dirs\n",
    "            print(file_name)\n",
    "            file_input = codecs.open(input_dir+\"/\"+dir_name+\"/\"+dirs, encoding='utf-8')\n",
    "            text = file_input.read()\n",
    "            file_input.close()\n",
    "            \n",
    "            file_output = codecs.open(output_dir + '/' + file_name, \"w\", encoding=\"utf-8\")\n",
    "            for l in text:\n",
    "                file_output.write(l)\n",
    "            file_output.close()\n",
    "            "
   ]
  },
  {
   "cell_type": "code",
   "execution_count": null,
   "metadata": {},
   "outputs": [],
   "source": [
    "read_directories(input_dir_list, '')"
   ]
  }
 ],
 "metadata": {
  "kernelspec": {
   "display_name": "Python 3",
   "language": "python",
   "name": "python3"
  },
  "language_info": {
   "codemirror_mode": {
    "name": "ipython",
    "version": 3
   },
   "file_extension": ".py",
   "mimetype": "text/x-python",
   "name": "python",
   "nbconvert_exporter": "python",
   "pygments_lexer": "ipython3",
   "version": "3.5.2"
  }
 },
 "nbformat": 4,
 "nbformat_minor": 2
}
