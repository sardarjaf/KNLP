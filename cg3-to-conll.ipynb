{
 "cells": [
  {
   "cell_type": "code",
   "execution_count": 205,
   "metadata": {},
   "outputs": [],
   "source": [
    "import os\n",
    "import codecs"
   ]
  },
  {
   "cell_type": "code",
   "execution_count": 206,
   "metadata": {},
   "outputs": [],
   "source": [
    "PATH = os.getcwd()\n",
    "dir_path = PATH + '/cg3-files'\n",
    "\n",
    "\n",
    "output_path = PATH + '/conll-files'"
   ]
  },
  {
   "cell_type": "code",
   "execution_count": 207,
   "metadata": {},
   "outputs": [],
   "source": [
    "def get_next_symbol(lines):\n",
    "    counter = 0\n",
    "    for l in lines:\n",
    "        if (len(l.strip()) > 0):\n",
    "            if l.startswith('\"<'):\n",
    "                return counter\n",
    "            else:\n",
    "                counter += 1\n",
    "        else:\n",
    "            return counter\n",
    "    \n",
    "    return counter"
   ]
  },
  {
   "cell_type": "code",
   "execution_count": 284,
   "metadata": {},
   "outputs": [],
   "source": [
    "def format_text(lines, text, line, symb_count, wid, sentence, sentence_counter):\n",
    "\n",
    "    if len(lines) >= 1:  \n",
    "        if lines[0].startswith('#trans'):\n",
    "            text += '\\n'+lines[0]\n",
    "            sentence_counter += 1\n",
    "            text += '#sent_id = ' + str(sentence_counter) + '\\n'\n",
    "            sentencex = get_sentence(lines[1:])\n",
    "            text += '#text: ' + sentencex + '\\n'\n",
    "            \n",
    "            sentence = ''\n",
    "            return format_text(lines[1:], text, line, symb_count, 1, sentence, sentence_counter)\n",
    "        \n",
    "        symb_count = get_next_symbol(lines)\n",
    "        if symb_count == 0:\n",
    "            Nsymb_count = get_next_symbol(lines[1:])\n",
    "            if Nsymb_count > 1:\n",
    "                startIdx = wid\n",
    "                endIdx = wid + Nsymb_count - 1\n",
    "                line = str(startIdx) + '-' + str(endIdx) + '\\t' +lines[0].strip()[2:-2]+'\\n'\n",
    "                text += line\n",
    "                sentence += lines[0].strip()[2:-2]+' '\n",
    "                return format_text(lines[1:], text, line, 1, wid, sentence, sentence_counter)\n",
    "            else:\n",
    "                \n",
    "                line = str(wid) + '\\t' +lines[0].strip()[2:-2]\n",
    "                sentence += lines[0].strip()[2:-2]+' '\n",
    "                \n",
    "                if len(lines[0].strip()) != 0:\n",
    "                    text += line\n",
    "                    \n",
    "                #text += line\n",
    "                \n",
    "                return format_text(lines[1:], text, line, symb_count, wid, sentence, sentence_counter)\n",
    "            \n",
    "        elif symb_count == 1:\n",
    "            if lines[0].startswith(' '):\n",
    "                True\n",
    "            else:    \n",
    "                w_pos = lines[0].rstrip().lstrip().split(' ')\n",
    "                w = w_pos[0].replace('\"','')\n",
    "                if len(w_pos) > 1:\n",
    "                    xpos = w_pos[1].upper()\n",
    "                    upos = \"|\".join(w_pos[1:]).upper()\n",
    "                else:\n",
    "                    xpos = w_pos[0].upper()\n",
    "                    upos = \"|\".join(w_pos[0:]).upper()\n",
    "                \n",
    "                line = '\\t' + w + '\\t' + xpos + '\\t' + xpos + '\\t' + upos + '\\t'+ str(wid) + '\\t _ \\t _ \\t _\\n'\n",
    "                text += line\n",
    "                wid += 1\n",
    "                \n",
    "            return format_text(lines[1:], text, line, symb_count, wid, sentence, sentence_counter)\n",
    "      \n",
    "        elif symb_count > 1:\n",
    "            for j in range(0, symb_count):\n",
    "                if len(lines[j].rstrip().lstrip()) > 0:\n",
    "                    w_pos = lines[j].strip().split(' ')\n",
    "                    w = w_pos[0].replace('\"', '')            \n",
    "                    if len(w_pos) > 1:\n",
    "                        xpos = w_pos[1].upper()\n",
    "                        upos = \"|\".join(w_pos[1:]).upper()\n",
    "                    else:\n",
    "                        xpos = w_pos[0].upper()\n",
    "                        upos = \"|\".join(w_pos[0:]).upper()\n",
    "                        \n",
    "                    line = str(wid) + '\\t' + w + '\\t' + xpos + '\\t' + xpos + '\\t' + upos + '\\t' + str(wid) + '\\t _ \\t _ \\t _ \\n'\n",
    "                    text += line\n",
    "                    wid += 1      \n",
    "            return format_text(lines[symb_count:], text, line, symb_count, wid, sentence, sentence_counter)\n",
    "        \n",
    "        else:\n",
    "            return format_text(lines[1:], text, line, symb_count, wid, sentence, sentence_counter)\n",
    "\n",
    "    return text, symb_count, sentence"
   ]
  },
  {
   "cell_type": "code",
   "execution_count": 285,
   "metadata": {},
   "outputs": [],
   "source": [
    "def get_sentence(lines):\n",
    "    sentence = ''\n",
    "    for l in lines:\n",
    "        if len(l.strip()) > 0:\n",
    "            if l.startswith('>\"') or l.startswith('\"<'):\n",
    "                sentence += l.replace('>\"', '').replace('\"<', '').replace('\\n', '')+' '\n",
    "        else: \n",
    "            return sentence\n",
    "    return sentence    "
   ]
  },
  {
   "cell_type": "code",
   "execution_count": 286,
   "metadata": {},
   "outputs": [],
   "source": [
    "for files in os.listdir(dir_path):\n",
    "    #print(files)\n",
    "    output = open(output_path + '/'+files, 'w')\n",
    "    file_content = dir_path+'/'+files\n",
    "    with open(file_content, 'r') as f:\n",
    "        lines = f.readlines()\n",
    "        t = format_text(lines, text='', line='', symb_count=0, wid=1, sentence='', sentence_counter=0)\n",
    "        output.write(t[0])\n",
    "    output.write('\\n')\n",
    "    output.close()"
   ]
  }
 ],
 "metadata": {
  "kernelspec": {
   "display_name": "Python [default]",
   "language": "python",
   "name": "python3"
  },
  "language_info": {
   "codemirror_mode": {
    "name": "ipython",
    "version": 3
   },
   "file_extension": ".py",
   "mimetype": "text/x-python",
   "name": "python",
   "nbconvert_exporter": "python",
   "pygments_lexer": "ipython3",
   "version": "3.5.4"
  }
 },
 "nbformat": 4,
 "nbformat_minor": 2
}
